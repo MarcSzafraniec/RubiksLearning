{
 "cells": [
  {
   "cell_type": "code",
   "execution_count": 99,
   "metadata": {
    "collapsed": false
   },
   "outputs": [],
   "source": [
    "import sys\n",
    "sys.path.insert(0, 'Resources/MagicCube/code/')\n",
    "import matplotlib.pyplot as plt\n",
    "import random as rd\n",
    "from bitstring import BitArray\n",
    "import math\n",
    "\n",
    "from cube import *\n",
    "from utils import *"
   ]
  },
  {
   "cell_type": "markdown",
   "metadata": {},
   "source": [
    "From around 4. 10¹⁹ states if we took all the configurations of the cube, we consider the 2**26 that represent: \n",
    "- Is a face done, for each face (2**6 states)\n",
    "- Is an edge done (2**12 states)\n",
    "- Is a corner done (2**8 states)\n",
    "\n",
    "It may be not even sufficient in order to implement Q-learning (too many states)\n",
    "\n",
    "\n",
    "Update: it is indeed too big (Memory Error). We try now 12.6.8 (nb faces done, nb edges done, nb corners done)"
   ]
  },
  {
   "cell_type": "code",
   "execution_count": 138,
   "metadata": {
    "collapsed": false
   },
   "outputs": [],
   "source": [
    "N = 3 #cube size\n",
    "\n",
    "#Q-learning parameters\n",
    "r = 0\n",
    "gamma = 1 / (1 + r) #discount of the model\n",
    "C = 1.\n",
    "epsilon = 0.15\n",
    "beta = 3./4 "
   ]
  },
  {
   "cell_type": "code",
   "execution_count": 94,
   "metadata": {
    "collapsed": false
   },
   "outputs": [],
   "source": [
    "def all_actions(N): #rotate by +90° / by -90° \n",
    "    actions = []\n",
    "    c = Cube(N)\n",
    "    for face_name in list(Cube.facedict.keys())[:3]: #the list is in the end ['U','D','F']\n",
    "        for layer in range(c.N):\n",
    "            for times in [1,-1]:\n",
    "                actions.append([face_name,layer,times])\n",
    "    return actions\n",
    "\n",
    "def reward_cube(c):\n",
    "    edges = computeEdges(c)\n",
    "    corners = computeCorners(c)\n",
    "    ncf = numCompleteFaces(c)\n",
    "    nce = numCompleteEdges(c,edges)\n",
    "    ncc = numCompleteCorners(c,corners)\n",
    "    \n",
    "    return 2*nce + 3*ncc + 100*ncf\n",
    "\n",
    "def state_cube(c):\n",
    "    #determining the new state\n",
    "    edges = computeEdges(c)\n",
    "    corners = computeCorners(c)\n",
    "#     edges_state = []\n",
    "#     corners_state = []\n",
    "#     faces_state = []\n",
    "#     for e in edges:\n",
    "#         edges_state.append(e.isDone(c))\n",
    "#     for corner in corners:\n",
    "#         corners_state.append(corner.isDone(c))\n",
    "#     nFaces = 6\n",
    "#     for f in range(nFaces):\n",
    "#         faces_state.append(np.sum(c.stickers[f] != c.stickers[f,0,0]) == 0)\n",
    "#     #conversion from binary list to int\n",
    "#     e = BitArray(edges_state).uint\n",
    "#     c = BitArray(corners_state).uint\n",
    "#     f = BitArray(faces_state).uint\n",
    "    ncf = numCompleteFaces(c)\n",
    "    nce = numCompleteEdges(c,edges)\n",
    "    ncc = numCompleteCorners(c,corners)\n",
    "    return ncf,nce,ncc\n",
    "\n",
    "def test_function_state_cube():\n",
    "    c = Cube(3)\n",
    "    print(state_cube(c))\n",
    "    c.randomize(1)\n",
    "    print(state_cube(c))"
   ]
  },
  {
   "cell_type": "code",
   "execution_count": 142,
   "metadata": {
    "collapsed": false
   },
   "outputs": [],
   "source": [
    "def Q_learning(c_init,Tmax,nb_episodes):\n",
    "    actions = all_actions(c_init.N) #rotate by +90° / by -90° \n",
    "    nb_actions = len(actions)\n",
    "    \n",
    "    Q_t = np.ones([6+1, 12+1, 8+1, nb_actions]) #face,edge,corner,action\n",
    "    N = np.zeros(Q_t.shape)\n",
    "    alpha = lambda n: min(1, C / math.pow(n,beta))\n",
    "    list_cumulated_reward = []\n",
    "    \n",
    "    for episode in range(nb_episodes):\n",
    "        c = copy.deepcopy(c_init)\n",
    "        c.randomize(200) #we randomize 200 times in order to have a \"well mixed\" cube\n",
    "        cumulated_reward = 0\n",
    "        for i in range(Tmax):\n",
    "            \n",
    "            ncf,nce,ncc = state_cube(c)\n",
    "            \n",
    "            #transition           \n",
    "            if(rd.random() > epsilon):\n",
    "                index_action = np.argmax(Q_t[ncf,nce,ncc])\n",
    "            else:\n",
    "                index_action = rd.randint(0,nb_actions-1)\n",
    "            a_t = index_action\n",
    "            f,l,d = actions[a_t]\n",
    "            c.move(f,l,d)            \n",
    "            R_t = reward_cube(c)\n",
    "            \n",
    "            #determining the new state\n",
    "            ncf_new,nce_new,ncc_new = state_cube(c)\n",
    "            \n",
    "            #updates\n",
    "            N[ncf,nce,ncc,a_t] = N[ncf,nce,ncc,a_t] + 1\n",
    "            Q_t[ncf,nce,ncc,a_t] = (1 - alpha(N[ncf,nce,ncc,a_t])) * Q_t[ncf,nce,ncc,a_t] + \\\n",
    "                    alpha(N[ncf,nce,ncc,a_t]) * (R_t + gamma * max(Q_t[ncf_new,nce_new,ncc_new]))\n",
    "            cumulated_reward += R_t\n",
    "    \n",
    "        list_cumulated_reward.append(cumulated_reward)\n",
    "    \n",
    "    return N,Q_t,list_cumulated_reward"
   ]
  },
  {
   "cell_type": "code",
   "execution_count": 143,
   "metadata": {
    "collapsed": false
   },
   "outputs": [],
   "source": [
    "N,Q_learned,list_cumulated_reward = Q_learning(c_init=Cube(3),Tmax=100,nb_episodes=100)"
   ]
  },
  {
   "cell_type": "code",
   "execution_count": 144,
   "metadata": {
    "collapsed": false
   },
   "outputs": [
    {
     "data": {
      "image/png": "[encoded data removed]",
      "text/plain": [
       "<matplotlib.figure.Figure at 0x7f8f3415bbe0>"
      ]
     },
     "metadata": {},
     "output_type": "display_data"
    }
   ],
   "source": [
    "plt.plot(list_cumulated_reward)\n",
    "plt.show()"
   ]
  },
  {
   "cell_type": "code",
   "execution_count": null,
   "metadata": {
    "collapsed": true
   },
   "outputs": [],
   "source": []
  }
 ],
 "metadata": {
  "anaconda-cloud": {},
  "kernelspec": {
   "display_name": "Python [conda root]",
   "language": "python",
   "name": "conda-root-py"
  },
  "language_info": {
   "codemirror_mode": {
    "name": "ipython",
    "version": 3
   },
   "file_extension": ".py",
   "mimetype": "text/x-python",
   "name": "python",
   "nbconvert_exporter": "python",
   "pygments_lexer": "ipython3",
   "version": "3.5.2"
  }
 },
 "nbformat": 4,
 "nbformat_minor": 1
}
