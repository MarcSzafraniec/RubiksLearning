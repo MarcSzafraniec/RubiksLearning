{
 "cells": [
  {
   "cell_type": "code",
   "execution_count": 3,
   "metadata": {
    "collapsed": true
   },
   "outputs": [],
   "source": [
    "import pycuber as pc"
   ]
  },
  {
   "cell_type": "code",
   "execution_count": 4,
   "metadata": {
    "collapsed": false
   },
   "outputs": [
    {
     "name": "stdout",
     "output_type": "stream",
     "text": [
      "         [y][y][r]\n",
      "         [y][y][g]\n",
      "         [y][y][g]\n",
      "[b][r][r][g][g][w][o][o][y][b][o][o]\n",
      "[r][r][r][g][g][y][b][o][o][b][b][b]\n",
      "[r][r][r][g][g][g][y][o][o][b][b][b]\n",
      "         [w][w][o]\n",
      "         [w][w][w]\n",
      "         [w][w][w]\n",
      "\n"
     ]
    }
   ],
   "source": [
    "# Create a Cube object\n",
    "mycube = pc.Cube()\n",
    "\n",
    "# Do something at the cube.\n",
    "mycube(\"R U R' U'\")\n",
    "\n",
    "print(mycube)"
   ]
  },
  {
   "cell_type": "code",
   "execution_count": 1,
   "metadata": {
    "collapsed": true
   },
   "outputs": [],
   "source": [
    "#Commentaire"
   ]
  },
  {
   "cell_type": "code",
   "execution_count": null,
   "metadata": {
    "collapsed": true
   },
   "outputs": [],
   "source": []
  }
 ],
 "metadata": {
  "anaconda-cloud": {},
  "kernelspec": {
   "display_name": "Python [conda root]",
   "language": "python",
   "name": "conda-root-py"
  },
  "language_info": {
   "codemirror_mode": {
    "name": "ipython",
    "version": 3
   },
   "file_extension": ".py",
   "mimetype": "text/x-python",
   "name": "python",
   "nbconvert_exporter": "python",
   "pygments_lexer": "ipython3",
   "version": "3.5.2"
  }
 },
 "nbformat": 4,
 "nbformat_minor": 1
}
